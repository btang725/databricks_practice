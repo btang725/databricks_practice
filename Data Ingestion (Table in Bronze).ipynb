{
 "cells": [
  {
   "cell_type": "markdown",
   "metadata": {
    "application/vnd.databricks.v1+cell": {
     "cellMetadata": {},
     "inputWidgets": {},
     "nuid": "ec2821ba-b2e0-47b6-a6ef-3429f8d0166c",
     "showTitle": false,
     "tableResultSettingsMap": {},
     "title": ""
    }
   },
   "source": [
    "\n",
    "/Volumes/datamaster/bronze/raw_csv_files/Spotify_Songs.csv"
   ]
  },
  {
   "cell_type": "code",
   "execution_count": 0,
   "metadata": {
    "application/vnd.databricks.v1+cell": {
     "cellMetadata": {
      "byteLimit": 2048000,
      "rowLimit": 10000
     },
     "inputWidgets": {},
     "nuid": "9cc486e9-c40a-47fd-9788-f16baa70916b",
     "showTitle": false,
     "tableResultSettingsMap": {},
     "title": ""
    }
   },
   "outputs": [],
   "source": [
    "%python\n",
    "df=spark.read.csv(\"/Volumes/datamaster/bronze/raw_csv_files/Spotify_Songs.csv\",header=True,inferSchema=True)\n",
    "df.write.saveAsTable(\"datamaster.bronze.spotify_songs_pyspark\")"
   ]
  },
  {
   "cell_type": "markdown",
   "metadata": {
    "application/vnd.databricks.v1+cell": {
     "cellMetadata": {},
     "inputWidgets": {},
     "nuid": "6b745f0e-6fe4-4e1a-b6d5-266fa0e454fb",
     "showTitle": false,
     "tableResultSettingsMap": {},
     "title": ""
    }
   },
   "source": [
    "https://docs.databricks.com/aws/en/sql/language-manual/functions/read_files\n",
    "\n",
    "-- Infers the schema of CSV files with headers. Because the schema is not provided,\n",
    "\n",
    "-- the CSV files are assumed to have headers.\n",
    "> SELECT * FROM read_files(\n",
    "    's3://bucket/path',\n",
    "    format => 'csv')"
   ]
  },
  {
   "cell_type": "code",
   "execution_count": 0,
   "metadata": {
    "application/vnd.databricks.v1+cell": {
     "cellMetadata": {
      "byteLimit": 2048000,
      "rowLimit": 10000
     },
     "inputWidgets": {},
     "nuid": "b64a6714-6e30-41be-a028-5806155ea096",
     "showTitle": false,
     "tableResultSettingsMap": {},
     "title": ""
    }
   },
   "outputs": [],
   "source": [
    "create table datamaster.bronze.spotify_songs_sql as\n",
    "(\n",
    "  SELECT *, current_timestamp as ingestion_date\n",
    "  FROM read_files(\n",
    "      '/Volumes/datamaster/bronze/raw_csv_files/Spotify_Songs.csv',\n",
    "      format => 'csv')\n",
    ")"
   ]
  },
  {
   "cell_type": "code",
   "execution_count": 0,
   "metadata": {
    "application/vnd.databricks.v1+cell": {
     "cellMetadata": {
      "byteLimit": 2048000,
      "rowLimit": 10000
     },
     "inputWidgets": {},
     "nuid": "1deaf266-f402-4d6b-af03-fab9d6c98f34",
     "showTitle": false,
     "tableResultSettingsMap": {},
     "title": ""
    }
   },
   "outputs": [],
   "source": [
    "select * from datamaster.bronze.spotify_songs_sql;"
   ]
  }
 ],
 "metadata": {
  "application/vnd.databricks.v1+notebook": {
   "computePreferences": null,
   "dashboards": [],
   "environmentMetadata": {
    "base_environment": "",
    "environment_version": "3"
   },
   "inputWidgetPreferences": null,
   "language": "sql",
   "notebookMetadata": {
    "pythonIndentUnit": 4
   },
   "notebookName": "Data Ingestion (Table in Bronze)",
   "widgets": {}
  },
  "language_info": {
   "name": "sql"
  }
 },
 "nbformat": 4,
 "nbformat_minor": 0
}

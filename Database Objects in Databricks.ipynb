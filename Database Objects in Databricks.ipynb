{
 "cells": [
  {
   "cell_type": "markdown",
   "metadata": {
    "application/vnd.databricks.v1+cell": {
     "cellMetadata": {
      "byteLimit": 2048000,
      "rowLimit": 10000
     },
     "inputWidgets": {},
     "nuid": "8833593a-4c51-4e43-b057-fdfc2978b53c",
     "showTitle": false,
     "tableResultSettingsMap": {},
     "title": ""
    }
   },
   "source": [
    "![](/Volumes/datamaster/bronze/images/object-model-40d730065eefed283b936a8664f1b247.png)"
   ]
  },
  {
   "cell_type": "code",
   "execution_count": 0,
   "metadata": {
    "application/vnd.databricks.v1+cell": {
     "cellMetadata": {},
     "inputWidgets": {},
     "nuid": "ed7ec00b-edd0-4766-bb8a-e852dbb99229",
     "showTitle": true,
     "tableResultSettingsMap": {},
     "title": "docs link"
    }
   },
   "outputs": [],
   "source": [
    "%python\n",
    "https://docs.databricks.com/aws/en/database-objects"
   ]
  },
  {
   "cell_type": "code",
   "execution_count": 0,
   "metadata": {
    "application/vnd.databricks.v1+cell": {
     "cellMetadata": {
      "byteLimit": 2048000,
      "rowLimit": 10000
     },
     "inputWidgets": {},
     "nuid": "37df94ec-cc83-4ee8-ac87-ac758089ced9",
     "showTitle": false,
     "tableResultSettingsMap": {},
     "title": ""
    }
   },
   "outputs": [],
   "source": [
    "use catalog datamaster;\n",
    "create schema if not exists bronze;\n",
    "\n",
    "-- OR create schema datamaster.bronze;"
   ]
  },
  {
   "cell_type": "code",
   "execution_count": 0,
   "metadata": {
    "application/vnd.databricks.v1+cell": {
     "cellMetadata": {
      "byteLimit": 2048000,
      "rowLimit": 10000
     },
     "inputWidgets": {},
     "nuid": "e3c2784c-6a2c-421b-a771-3426cb26fe8d",
     "showTitle": false,
     "tableResultSettingsMap": {},
     "title": ""
    }
   },
   "outputs": [],
   "source": [
    "create table if not exists datamaster.bronze.test (id int, name string, age int);\n",
    "insert into datamaster.bronze.test values (1, 'Jason', 33);"
   ]
  },
  {
   "cell_type": "code",
   "execution_count": 0,
   "metadata": {
    "application/vnd.databricks.v1+cell": {
     "cellMetadata": {
      "byteLimit": 2048000,
      "rowLimit": 10000
     },
     "inputWidgets": {},
     "nuid": "290c2b6b-7d11-4d1e-aa80-6afe19c552a3",
     "showTitle": false,
     "tableResultSettingsMap": {},
     "title": ""
    }
   },
   "outputs": [],
   "source": [
    "select * from datamaster.bronze.test;"
   ]
  },
  {
   "cell_type": "markdown",
   "metadata": {
    "application/vnd.databricks.v1+cell": {
     "cellMetadata": {},
     "inputWidgets": {},
     "nuid": "ece400b6-b417-4963-9c78-533331ad4d69",
     "showTitle": false,
     "tableResultSettingsMap": {},
     "title": ""
    }
   },
   "source": [
    "###Functions"
   ]
  },
  {
   "cell_type": "code",
   "execution_count": 0,
   "metadata": {
    "application/vnd.databricks.v1+cell": {
     "cellMetadata": {
      "byteLimit": 2048000,
      "rowLimit": 10000
     },
     "inputWidgets": {},
     "nuid": "8bc51c59-e256-4de4-b5c5-92b0176373d4",
     "showTitle": false,
     "tableResultSettingsMap": {},
     "title": ""
    }
   },
   "outputs": [],
   "source": [
    "use catalog datamaster;\n",
    "use schema bronze;\n",
    "\n",
    "CREATE OR REPLACE TABLE customer_reviews (\n",
    "  customer_id INT,\n",
    "  first_name STRING,\n",
    "  last_name STRING,\n",
    "  review STRING\n",
    ");\n",
    "\n",
    "INSERT INTO customer_reviews VALUES\n",
    "(1, 'John', 'Doe', 'Amazing product! I love it.'),\n",
    "(2, 'Jane', 'Smith', 'Not good, I am disappointed.'),\n",
    "(3, 'Alice', 'Brown', 'Decent quality but can be better.'),\n",
    "(4, 'Bob', 'Johnson', 'Fantastic service! Highly recommend.'),\n",
    "(5, 'Charlie', 'Davis', 'Terrible experience, never buying again.');"
   ]
  },
  {
   "cell_type": "code",
   "execution_count": 0,
   "metadata": {
    "application/vnd.databricks.v1+cell": {
     "cellMetadata": {
      "byteLimit": 2048000,
      "rowLimit": 10000
     },
     "inputWidgets": {},
     "nuid": "f71700da-f762-4a20-9bc7-92da3f1b3efd",
     "showTitle": false,
     "tableResultSettingsMap": {},
     "title": ""
    }
   },
   "outputs": [],
   "source": [
    "select * from datamaster.bronze.customer_reviews;"
   ]
  },
  {
   "cell_type": "code",
   "execution_count": 0,
   "metadata": {
    "application/vnd.databricks.v1+cell": {
     "cellMetadata": {},
     "inputWidgets": {},
     "nuid": "826699bc-6b45-4c01-b5e4-9917238db559",
     "showTitle": true,
     "tableResultSettingsMap": {},
     "title": "syntax for UDF"
    }
   },
   "outputs": [],
   "source": [
    "create function function_name(para datatype)\n",
    "returns datatype\n",
    "return logic"
   ]
  },
  {
   "cell_type": "code",
   "execution_count": 0,
   "metadata": {
    "application/vnd.databricks.v1+cell": {
     "cellMetadata": {
      "byteLimit": 2048000,
      "rowLimit": 10000
     },
     "inputWidgets": {},
     "nuid": "03cfddea-0a5a-4ead-9691-cacaf783b6a0",
     "showTitle": true,
     "tableResultSettingsMap": {},
     "title": "full name UDF"
    }
   },
   "outputs": [],
   "source": [
    "create function datamaster.bronze.full_name_udf(first_name string, last_name string)\n",
    "returns string\n",
    "return concat(first_name, ' ', last_name)"
   ]
  },
  {
   "cell_type": "code",
   "execution_count": 0,
   "metadata": {
    "application/vnd.databricks.v1+cell": {
     "cellMetadata": {
      "byteLimit": 2048000,
      "rowLimit": 10000
     },
     "inputWidgets": {},
     "nuid": "1dc45386-7ee7-4fbb-aa16-4950a68bb105",
     "showTitle": false,
     "tableResultSettingsMap": {},
     "title": ""
    }
   },
   "outputs": [],
   "source": [
    "select customer_id, datamaster.bronze.full_name_udf(first_name, last_name) as full_name, review\n",
    "from datamaster.bronze.customer_reviews"
   ]
  },
  {
   "cell_type": "code",
   "execution_count": 0,
   "metadata": {
    "application/vnd.databricks.v1+cell": {
     "cellMetadata": {
      "byteLimit": 2048000,
      "rowLimit": 10000
     },
     "inputWidgets": {},
     "nuid": "135d7704-6f1c-4798-9bde-4f111c65e739",
     "showTitle": false,
     "tableResultSettingsMap": {},
     "title": ""
    }
   },
   "outputs": [],
   "source": [
    "-- Create a complex UDF for sentiment analysis\n",
    "CREATE FUNCTION datamaster.bronze.sentiment_analysis(review STRING)\n",
    "RETURNS STRING -- datatype string\n",
    "RETURN \n",
    "    CASE \n",
    "        WHEN review LIKE '%amazing%' OR review LIKE '%love%' OR review LIKE '%fantastic%' OR review LIKE '%recommend%' THEN 'Positive'\n",
    "        WHEN review LIKE '%not good%' OR review LIKE '%disappointed%' OR review LIKE '%terrible%' OR review LIKE '%never buying%' THEN 'Negative'\n",
    "        ELSE 'Neutral'\n",
    "    END;"
   ]
  },
  {
   "cell_type": "code",
   "execution_count": 0,
   "metadata": {
    "application/vnd.databricks.v1+cell": {
     "cellMetadata": {
      "byteLimit": 2048000,
      "rowLimit": 10000
     },
     "inputWidgets": {},
     "nuid": "f2e33dd8-808c-440d-863e-56ef9b357b51",
     "showTitle": false,
     "tableResultSettingsMap": {},
     "title": ""
    }
   },
   "outputs": [],
   "source": [
    "select customer_id, review, datamaster.bronze.sentiment_analysis(review) as sentiment\n",
    "from datamaster.bronze.customer_reviews"
   ]
  },
  {
   "cell_type": "markdown",
   "metadata": {
    "application/vnd.databricks.v1+cell": {
     "cellMetadata": {},
     "inputWidgets": {},
     "nuid": "4f61665d-cd24-4057-9e75-c16ca7b8f799",
     "showTitle": false,
     "tableResultSettingsMap": {},
     "title": ""
    }
   },
   "source": [
    "## Views\n",
    "Virtual Tables\n",
    "1. Standard View: Persisted (saved)\n",
    "2. Temp View / Global Temp View"
   ]
  },
  {
   "cell_type": "code",
   "execution_count": 0,
   "metadata": {
    "application/vnd.databricks.v1+cell": {
     "cellMetadata": {
      "byteLimit": 2048000,
      "rowLimit": 10000
     },
     "inputWidgets": {},
     "nuid": "afa0c756-1f32-4120-8120-b78b276af598",
     "showTitle": false,
     "tableResultSettingsMap": {},
     "title": ""
    }
   },
   "outputs": [],
   "source": [
    "create schema if not exists datamaster.silver;\n",
    "create schema if not exists datamaster.gold;"
   ]
  },
  {
   "cell_type": "code",
   "execution_count": 0,
   "metadata": {
    "application/vnd.databricks.v1+cell": {
     "cellMetadata": {
      "byteLimit": 2048000,
      "rowLimit": 10000
     },
     "inputWidgets": {},
     "nuid": "3c2e2c05-61cb-4da6-b49f-fd0828b9d9a9",
     "showTitle": false,
     "tableResultSettingsMap": {},
     "title": ""
    }
   },
   "outputs": [],
   "source": [
    "-- create view called customer sentiment\n",
    "-- appears in catalog > datamaster > X > tables; icon has glasses\n",
    "create or replace view datamaster.silver.customer_sentiment as\n",
    "select customer_id, review, datamaster.bronze.sentiment_analysis(review) as sentiment\n",
    "from datamaster.bronze.customer_reviews"
   ]
  },
  {
   "cell_type": "code",
   "execution_count": 0,
   "metadata": {
    "application/vnd.databricks.v1+cell": {
     "cellMetadata": {
      "byteLimit": 2048000,
      "rowLimit": 10000
     },
     "inputWidgets": {},
     "nuid": "d0b8abb0-525a-4088-a373-1b400e3b06e2",
     "showTitle": false,
     "tableResultSettingsMap": {},
     "title": ""
    }
   },
   "outputs": [],
   "source": [
    "select * from datamaster.silver.customer_sentiment"
   ]
  },
  {
   "cell_type": "code",
   "execution_count": 0,
   "metadata": {
    "application/vnd.databricks.v1+cell": {
     "cellMetadata": {
      "byteLimit": 2048000,
      "rowLimit": 10000
     },
     "inputWidgets": {},
     "nuid": "2a2c0046-5948-40d1-a045-1c7b4ffcf596",
     "showTitle": false,
     "tableResultSettingsMap": {},
     "title": ""
    }
   },
   "outputs": [],
   "source": [
    "-- gold bc aggregations and grouping happening\n",
    "create or replace view datamaster.gold.customer_sentiment as\n",
    "SELECT\n",
    "  datamaster.bronze.sentiment_analysis(review) AS sentiment,\n",
    "  COUNT(*) AS count\n",
    "FROM datamaster.bronze.customer_reviews\n",
    "GROUP BY sentiment_analysis(review)"
   ]
  },
  {
   "cell_type": "code",
   "execution_count": 0,
   "metadata": {
    "application/vnd.databricks.v1+cell": {
     "cellMetadata": {
      "byteLimit": 2048000,
      "rowLimit": 10000
     },
     "inputWidgets": {},
     "nuid": "df4e5007-7bd4-4378-8a24-c36ed74e74d8",
     "showTitle": false,
     "tableResultSettingsMap": {},
     "title": ""
    }
   },
   "outputs": [],
   "source": [
    "select * from datamaster.gold.customer_sentiment;\n",
    "\n",
    "-- output table:\n",
    "-- sentiment | count\n",
    "-- neutral | 1\n",
    "-- negative | 2\n",
    "-- positive | 2"
   ]
  },
  {
   "cell_type": "code",
   "execution_count": 0,
   "metadata": {
    "application/vnd.databricks.v1+cell": {
     "cellMetadata": {},
     "inputWidgets": {},
     "nuid": "e8953695-6d4a-4ae5-ac7a-9b94b5e6bb20",
     "showTitle": false,
     "tableResultSettingsMap": {},
     "title": ""
    }
   },
   "outputs": [],
   "source": [
    "\n"
   ]
  }
 ],
 "metadata": {
  "application/vnd.databricks.v1+notebook": {
   "computePreferences": null,
   "dashboards": [],
   "environmentMetadata": {
    "base_environment": "",
    "environment_version": "3"
   },
   "inputWidgetPreferences": null,
   "language": "sql",
   "notebookMetadata": {
    "pythonIndentUnit": 4
   },
   "notebookName": "Database Objects in Databricks",
   "widgets": {}
  },
  "language_info": {
   "name": "sql"
  }
 },
 "nbformat": 4,
 "nbformat_minor": 0
}
